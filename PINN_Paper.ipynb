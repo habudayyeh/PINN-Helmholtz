{
  "nbformat": 4,
  "nbformat_minor": 0,
  "metadata": {
    "colab": {
      "provenance": [],
      "gpuType": "T4",
      "authorship_tag": "ABX9TyN3pLHtU7zuWqLkn02rkoVK",
      "include_colab_link": true
    },
    "kernelspec": {
      "name": "python3",
      "display_name": "Python 3"
    },
    "language_info": {
      "name": "python"
    },
    "accelerator": "GPU",
    "widgets": {
      "application/vnd.jupyter.widget-state+json": {
        "6cfd0bb9e6d14ad6b5f59486997f50e9": {
          "model_module": "@jupyter-widgets/controls",
          "model_name": "HBoxModel",
          "model_module_version": "1.5.0",
          "state": {
            "_dom_classes": [],
            "_model_module": "@jupyter-widgets/controls",
            "_model_module_version": "1.5.0",
            "_model_name": "HBoxModel",
            "_view_count": null,
            "_view_module": "@jupyter-widgets/controls",
            "_view_module_version": "1.5.0",
            "_view_name": "HBoxView",
            "box_style": "",
            "children": [
              "IPY_MODEL_cd4a3ab6698d4e51a4444d0de44f9344",
              "IPY_MODEL_3838eb6883bc4fc3ac6c62cec7dc1172",
              "IPY_MODEL_014a2f85407e40ce83c67965e2fcf614"
            ],
            "layout": "IPY_MODEL_bc4f71c50394498aba12e0620083dde3"
          }
        },
        "cd4a3ab6698d4e51a4444d0de44f9344": {
          "model_module": "@jupyter-widgets/controls",
          "model_name": "HTMLModel",
          "model_module_version": "1.5.0",
          "state": {
            "_dom_classes": [],
            "_model_module": "@jupyter-widgets/controls",
            "_model_module_version": "1.5.0",
            "_model_name": "HTMLModel",
            "_view_count": null,
            "_view_module": "@jupyter-widgets/controls",
            "_view_module_version": "1.5.0",
            "_view_name": "HTMLView",
            "description": "",
            "description_tooltip": null,
            "layout": "IPY_MODEL_3e9314b66bf0411ca442390608331fe7",
            "placeholder": "​",
            "style": "IPY_MODEL_f8e57fc2f9214d599fdec8e42b914c43",
            "value": " 90%"
          }
        },
        "3838eb6883bc4fc3ac6c62cec7dc1172": {
          "model_module": "@jupyter-widgets/controls",
          "model_name": "FloatProgressModel",
          "model_module_version": "1.5.0",
          "state": {
            "_dom_classes": [],
            "_model_module": "@jupyter-widgets/controls",
            "_model_module_version": "1.5.0",
            "_model_name": "FloatProgressModel",
            "_view_count": null,
            "_view_module": "@jupyter-widgets/controls",
            "_view_module_version": "1.5.0",
            "_view_name": "ProgressView",
            "bar_style": "danger",
            "description": "",
            "description_tooltip": null,
            "layout": "IPY_MODEL_6e4e370425ab424ab5f4ac39542bb8c5",
            "max": 10000,
            "min": 0,
            "orientation": "horizontal",
            "style": "IPY_MODEL_44a25c79260241ca85ddd18f581c352e",
            "value": 9009
          }
        },
        "014a2f85407e40ce83c67965e2fcf614": {
          "model_module": "@jupyter-widgets/controls",
          "model_name": "HTMLModel",
          "model_module_version": "1.5.0",
          "state": {
            "_dom_classes": [],
            "_model_module": "@jupyter-widgets/controls",
            "_model_module_version": "1.5.0",
            "_model_name": "HTMLModel",
            "_view_count": null,
            "_view_module": "@jupyter-widgets/controls",
            "_view_module_version": "1.5.0",
            "_view_name": "HTMLView",
            "description": "",
            "description_tooltip": null,
            "layout": "IPY_MODEL_b022ee9383e345e7bf8768f4070d4621",
            "placeholder": "​",
            "style": "IPY_MODEL_5a9e8e7a327e4d77a9e1947961a31784",
            "value": " 9009/10000 [23:43&lt;02:35,  6.36it/s]"
          }
        },
        "bc4f71c50394498aba12e0620083dde3": {
          "model_module": "@jupyter-widgets/base",
          "model_name": "LayoutModel",
          "model_module_version": "1.2.0",
          "state": {
            "_model_module": "@jupyter-widgets/base",
            "_model_module_version": "1.2.0",
            "_model_name": "LayoutModel",
            "_view_count": null,
            "_view_module": "@jupyter-widgets/base",
            "_view_module_version": "1.2.0",
            "_view_name": "LayoutView",
            "align_content": null,
            "align_items": null,
            "align_self": null,
            "border": null,
            "bottom": null,
            "display": null,
            "flex": null,
            "flex_flow": null,
            "grid_area": null,
            "grid_auto_columns": null,
            "grid_auto_flow": null,
            "grid_auto_rows": null,
            "grid_column": null,
            "grid_gap": null,
            "grid_row": null,
            "grid_template_areas": null,
            "grid_template_columns": null,
            "grid_template_rows": null,
            "height": null,
            "justify_content": null,
            "justify_items": null,
            "left": null,
            "margin": null,
            "max_height": null,
            "max_width": null,
            "min_height": null,
            "min_width": null,
            "object_fit": null,
            "object_position": null,
            "order": null,
            "overflow": null,
            "overflow_x": null,
            "overflow_y": null,
            "padding": null,
            "right": null,
            "top": null,
            "visibility": null,
            "width": null
          }
        },
        "3e9314b66bf0411ca442390608331fe7": {
          "model_module": "@jupyter-widgets/base",
          "model_name": "LayoutModel",
          "model_module_version": "1.2.0",
          "state": {
            "_model_module": "@jupyter-widgets/base",
            "_model_module_version": "1.2.0",
            "_model_name": "LayoutModel",
            "_view_count": null,
            "_view_module": "@jupyter-widgets/base",
            "_view_module_version": "1.2.0",
            "_view_name": "LayoutView",
            "align_content": null,
            "align_items": null,
            "align_self": null,
            "border": null,
            "bottom": null,
            "display": null,
            "flex": null,
            "flex_flow": null,
            "grid_area": null,
            "grid_auto_columns": null,
            "grid_auto_flow": null,
            "grid_auto_rows": null,
            "grid_column": null,
            "grid_gap": null,
            "grid_row": null,
            "grid_template_areas": null,
            "grid_template_columns": null,
            "grid_template_rows": null,
            "height": null,
            "justify_content": null,
            "justify_items": null,
            "left": null,
            "margin": null,
            "max_height": null,
            "max_width": null,
            "min_height": null,
            "min_width": null,
            "object_fit": null,
            "object_position": null,
            "order": null,
            "overflow": null,
            "overflow_x": null,
            "overflow_y": null,
            "padding": null,
            "right": null,
            "top": null,
            "visibility": null,
            "width": null
          }
        },
        "f8e57fc2f9214d599fdec8e42b914c43": {
          "model_module": "@jupyter-widgets/controls",
          "model_name": "DescriptionStyleModel",
          "model_module_version": "1.5.0",
          "state": {
            "_model_module": "@jupyter-widgets/controls",
            "_model_module_version": "1.5.0",
            "_model_name": "DescriptionStyleModel",
            "_view_count": null,
            "_view_module": "@jupyter-widgets/base",
            "_view_module_version": "1.2.0",
            "_view_name": "StyleView",
            "description_width": ""
          }
        },
        "6e4e370425ab424ab5f4ac39542bb8c5": {
          "model_module": "@jupyter-widgets/base",
          "model_name": "LayoutModel",
          "model_module_version": "1.2.0",
          "state": {
            "_model_module": "@jupyter-widgets/base",
            "_model_module_version": "1.2.0",
            "_model_name": "LayoutModel",
            "_view_count": null,
            "_view_module": "@jupyter-widgets/base",
            "_view_module_version": "1.2.0",
            "_view_name": "LayoutView",
            "align_content": null,
            "align_items": null,
            "align_self": null,
            "border": null,
            "bottom": null,
            "display": null,
            "flex": null,
            "flex_flow": null,
            "grid_area": null,
            "grid_auto_columns": null,
            "grid_auto_flow": null,
            "grid_auto_rows": null,
            "grid_column": null,
            "grid_gap": null,
            "grid_row": null,
            "grid_template_areas": null,
            "grid_template_columns": null,
            "grid_template_rows": null,
            "height": null,
            "justify_content": null,
            "justify_items": null,
            "left": null,
            "margin": null,
            "max_height": null,
            "max_width": null,
            "min_height": null,
            "min_width": null,
            "object_fit": null,
            "object_position": null,
            "order": null,
            "overflow": null,
            "overflow_x": null,
            "overflow_y": null,
            "padding": null,
            "right": null,
            "top": null,
            "visibility": null,
            "width": null
          }
        },
        "44a25c79260241ca85ddd18f581c352e": {
          "model_module": "@jupyter-widgets/controls",
          "model_name": "ProgressStyleModel",
          "model_module_version": "1.5.0",
          "state": {
            "_model_module": "@jupyter-widgets/controls",
            "_model_module_version": "1.5.0",
            "_model_name": "ProgressStyleModel",
            "_view_count": null,
            "_view_module": "@jupyter-widgets/base",
            "_view_module_version": "1.2.0",
            "_view_name": "StyleView",
            "bar_color": null,
            "description_width": ""
          }
        },
        "b022ee9383e345e7bf8768f4070d4621": {
          "model_module": "@jupyter-widgets/base",
          "model_name": "LayoutModel",
          "model_module_version": "1.2.0",
          "state": {
            "_model_module": "@jupyter-widgets/base",
            "_model_module_version": "1.2.0",
            "_model_name": "LayoutModel",
            "_view_count": null,
            "_view_module": "@jupyter-widgets/base",
            "_view_module_version": "1.2.0",
            "_view_name": "LayoutView",
            "align_content": null,
            "align_items": null,
            "align_self": null,
            "border": null,
            "bottom": null,
            "display": null,
            "flex": null,
            "flex_flow": null,
            "grid_area": null,
            "grid_auto_columns": null,
            "grid_auto_flow": null,
            "grid_auto_rows": null,
            "grid_column": null,
            "grid_gap": null,
            "grid_row": null,
            "grid_template_areas": null,
            "grid_template_columns": null,
            "grid_template_rows": null,
            "height": null,
            "justify_content": null,
            "justify_items": null,
            "left": null,
            "margin": null,
            "max_height": null,
            "max_width": null,
            "min_height": null,
            "min_width": null,
            "object_fit": null,
            "object_position": null,
            "order": null,
            "overflow": null,
            "overflow_x": null,
            "overflow_y": null,
            "padding": null,
            "right": null,
            "top": null,
            "visibility": null,
            "width": null
          }
        },
        "5a9e8e7a327e4d77a9e1947961a31784": {
          "model_module": "@jupyter-widgets/controls",
          "model_name": "DescriptionStyleModel",
          "model_module_version": "1.5.0",
          "state": {
            "_model_module": "@jupyter-widgets/controls",
            "_model_module_version": "1.5.0",
            "_model_name": "DescriptionStyleModel",
            "_view_count": null,
            "_view_module": "@jupyter-widgets/base",
            "_view_module_version": "1.2.0",
            "_view_name": "StyleView",
            "description_width": ""
          }
        }
      }
    }
  },
  "cells": [
    {
      "cell_type": "markdown",
      "metadata": {
        "id": "view-in-github",
        "colab_type": "text"
      },
      "source": [
        "<a href=\"https://colab.research.google.com/github/habudayyeh/PINN-Helmholtz/blob/main/PINN_Paper.ipynb\" target=\"_parent\"><img src=\"https://colab.research.google.com/assets/colab-badge.svg\" alt=\"Open In Colab\"/></a>"
      ]
    },
    {
      "cell_type": "markdown",
      "source": [
        "\n",
        "\n",
        "#Helmholtz Equation PINN Solver\n",
        "Solve Helmholtz Equation using PINN Based on the solution provided by:\n",
        "\n",
        "https://www.vincentsitzmann.com/siren/\n",
        "\n",
        "https://github.com/vsitzmann/siren\n",
        "\n",
        "https://arxiv.org/abs/2006.09661\n",
        "\n",
        "My specific implementation can be found at:\n",
        "\n",
        "https://github.com/habudayyeh/PINN-Helmholtz"
      ],
      "metadata": {
        "id": "iHLySjOdvCjM"
      }
    },
    {
      "cell_type": "markdown",
      "source": [
        "\n",
        "### Change directory to repo directory:\n",
        "\n"
      ],
      "metadata": {
        "id": "DltltuMzvB1K"
      }
    },
    {
      "cell_type": "code",
      "source": [
        "import os\n",
        "os.chdir('/content/PINN-Helmholtz')\n",
        "print(os.getcwd())"
      ],
      "metadata": {
        "id": "yPZmgJ2JCa6o",
        "colab": {
          "base_uri": "https://localhost:8080/",
          "height": 0
        },
        "outputId": "4a015f4d-487a-4096-daa4-68aadca73e37"
      },
      "execution_count": 1,
      "outputs": [
        {
          "output_type": "stream",
          "name": "stdout",
          "text": [
            "/content/PINN-Helmholtz\n"
          ]
        }
      ]
    },
    {
      "cell_type": "markdown",
      "source": [
        "###Imports"
      ],
      "metadata": {
        "id": "Giey9Yssvv66"
      }
    },
    {
      "cell_type": "code",
      "source": [
        "from torch.utils.data import DataLoader\n",
        "import torch\n",
        "import matplotlib.pyplot as plt\n",
        "import numpy as np\n",
        "\n",
        "import utils, modules, training"
      ],
      "metadata": {
        "id": "tGR8-Kqjv3kK"
      },
      "execution_count": null,
      "outputs": []
    },
    {
      "cell_type": "markdown",
      "source": [
        "#Training"
      ],
      "metadata": {
        "id": "7Xi3BLd448RZ"
      }
    },
    {
      "cell_type": "markdown",
      "source": [
        "###Parameters"
      ],
      "metadata": {
        "id": "jJRrrPbb2IY3"
      }
    },
    {
      "cell_type": "code",
      "source": [
        "#Physical Parameters\n",
        "side_length = 100.\n",
        "source_coords = np.array([250., 202.])\n",
        "wavelength = 0.3\n",
        "\n",
        "\n",
        "#Training Parameters\n",
        "logging_root= './logs'\n",
        "experiment_name='wl'+str(wavelength)\n",
        "batch_size = 32\n",
        "lr = 5e-6\n",
        "num_epochs = 10000\n",
        "epochs_til_ckpt = 1000\n",
        "steps_til_summary = 100\n",
        "activation = 'sine'\n",
        "mode = 'mlp'\n",
        "velocity = 'uniform'\n",
        "clip_grad = 0.0\n",
        "use_lbfgs = False\n",
        "checkpoint_path = None"
      ],
      "metadata": {
        "id": "-uCYpyjp2LxV"
      },
      "execution_count": null,
      "outputs": []
    },
    {
      "cell_type": "markdown",
      "source": [
        "###Datasets and dataloaders"
      ],
      "metadata": {
        "id": "cWfLuS7d2e6g"
      }
    },
    {
      "cell_type": "code",
      "source": [
        "source_coords = 2*(source_coords/600 - 0.5) # Normalize source coords to between -1, 1\n",
        "\n",
        "train_dataset = utils.SingleHelmholtzSource(\n",
        "    sidelength=int(side_length),\n",
        "    velocity=velocity,\n",
        "    source_coords=source_coords,\n",
        "    wavelength = wavelength,\n",
        "    )\n",
        "\n",
        "val_dataset =utils.SingleHelmholtzSource(\n",
        "    sidelength=int(side_length/np.pi),\n",
        "    velocity=velocity,\n",
        "    source_coords=source_coords,\n",
        "    wavelength = wavelength,\n",
        "    )\n",
        "\n",
        "train_dataloader = DataLoader(train_dataset,\n",
        "                              shuffle=True,\n",
        "                              batch_size=batch_size,\n",
        "                              num_workers=0\n",
        "                              )\n",
        "val_dataloader = DataLoader(val_dataset,\n",
        "                            shuffle=True,\n",
        "                            batch_size=batch_size,\n",
        "                            num_workers=0\n",
        "                            )"
      ],
      "metadata": {
        "id": "dqZHX5dc249q"
      },
      "execution_count": null,
      "outputs": []
    },
    {
      "cell_type": "markdown",
      "source": [
        "###Define Model and Loss"
      ],
      "metadata": {
        "id": "YFD7gK4T3KGn"
      }
    },
    {
      "cell_type": "code",
      "source": [
        "# Define the model.\n",
        "model = modules.SingleBVPNet(out_features=2,\n",
        "                             type=activation,\n",
        "                             mode=mode,\n",
        "                             final_layer_factor=1.\n",
        "                             )\n",
        "\n",
        "model.cuda()\n",
        "\n",
        "# Define the loss\n",
        "loss_fn = utils.helmholtz_pml\n",
        "summary_fn = utils.write_helmholtz_summary\n",
        "\n",
        "root_path = os.path.join(logging_root, experiment_name)"
      ],
      "metadata": {
        "id": "yRiu4NEd3Jg3"
      },
      "execution_count": null,
      "outputs": []
    },
    {
      "cell_type": "markdown",
      "source": [
        "###Train Model"
      ],
      "metadata": {
        "id": "G7AubjaN3a4g"
      }
    },
    {
      "cell_type": "code",
      "source": [
        "training.train(\n",
        "    model=model,\n",
        "    train_dataloader=train_dataloader,\n",
        "    val_dataloader=val_dataloader,\n",
        "    epochs=num_epochs,\n",
        "    lr=lr,\n",
        "    steps_til_summary=steps_til_summary,\n",
        "    epochs_til_checkpoint=epochs_til_ckpt,\n",
        "    model_dir=root_path,\n",
        "    loss_fn=loss_fn,\n",
        "    summary_fn=summary_fn,\n",
        "    clip_grad=clip_grad,\n",
        "    use_lbfgs=use_lbfgs\n",
        "    )"
      ],
      "metadata": {
        "id": "3b7PyF3Y6kUD",
        "colab": {
          "base_uri": "https://localhost:8080/",
          "height": 4001,
          "referenced_widgets": [
            "6cfd0bb9e6d14ad6b5f59486997f50e9",
            "cd4a3ab6698d4e51a4444d0de44f9344",
            "3838eb6883bc4fc3ac6c62cec7dc1172",
            "014a2f85407e40ce83c67965e2fcf614",
            "bc4f71c50394498aba12e0620083dde3",
            "3e9314b66bf0411ca442390608331fe7",
            "f8e57fc2f9214d599fdec8e42b914c43",
            "6e4e370425ab424ab5f4ac39542bb8c5",
            "44a25c79260241ca85ddd18f581c352e",
            "b022ee9383e345e7bf8768f4070d4621",
            "5a9e8e7a327e4d77a9e1947961a31784"
          ]
        },
        "outputId": "20aa819a-6060-4a61-8616-77a60ea3bdc8"
      },
      "execution_count": 8,
      "outputs": [
        {
          "output_type": "stream",
          "name": "stdout",
          "text": [
            "SingleBVPNet(\n",
            "  (image_downsampling): ImageDownsampling()\n",
            "  (net): FCBlock(\n",
            "    (net): MetaSequential(\n",
            "      (0): MetaSequential(\n",
            "        (0): BatchLinear(in_features=2, out_features=256, bias=True)\n",
            "        (1): Sine()\n",
            "      )\n",
            "      (1): MetaSequential(\n",
            "        (0): BatchLinear(in_features=256, out_features=256, bias=True)\n",
            "        (1): Sine()\n",
            "      )\n",
            "      (2): MetaSequential(\n",
            "        (0): BatchLinear(in_features=256, out_features=256, bias=True)\n",
            "        (1): Sine()\n",
            "      )\n",
            "      (3): MetaSequential(\n",
            "        (0): BatchLinear(in_features=256, out_features=256, bias=True)\n",
            "        (1): Sine()\n",
            "      )\n",
            "      (4): MetaSequential(\n",
            "        (0): BatchLinear(in_features=256, out_features=2, bias=True)\n",
            "      )\n",
            "    )\n",
            "  )\n",
            ")\n"
          ]
        },
        {
          "output_type": "display_data",
          "data": {
            "text/plain": [
              "  0%|          | 0/10000 [00:00<?, ?it/s]"
            ],
            "application/vnd.jupyter.widget-view+json": {
              "version_major": 2,
              "version_minor": 0,
              "model_id": "6cfd0bb9e6d14ad6b5f59486997f50e9"
            }
          },
          "metadata": {}
        },
        {
          "output_type": "stream",
          "name": "stdout",
          "text": [
            "Epoch 0, Total loss 808411.000000, iteration time 0.150043\n",
            "Running validation set...\n",
            "Epoch 100, Total loss 237863.921875, iteration time 0.157777\n",
            "Running validation set...\n",
            "Epoch 200, Total loss 117106.171875, iteration time 0.162511\n",
            "Running validation set...\n",
            "Epoch 300, Total loss 56980.875000, iteration time 0.154862\n",
            "Running validation set...\n",
            "Epoch 400, Total loss 50633.023438, iteration time 0.153231\n",
            "Running validation set...\n",
            "Epoch 500, Total loss 42683.113281, iteration time 0.154584\n",
            "Running validation set...\n",
            "Epoch 600, Total loss 40822.082031, iteration time 0.152909\n",
            "Running validation set...\n",
            "Epoch 700, Total loss 45581.226562, iteration time 0.155451\n",
            "Running validation set...\n",
            "Epoch 800, Total loss 35061.109375, iteration time 0.155186\n",
            "Running validation set...\n",
            "Epoch 900, Total loss 34513.273438, iteration time 0.159794\n",
            "Running validation set...\n",
            "Epoch 1000, Total loss 33855.371094, iteration time 0.117693\n",
            "Running validation set...\n",
            "Epoch 1100, Total loss 39538.671875, iteration time 0.159965\n",
            "Running validation set...\n",
            "Epoch 1200, Total loss 33900.328125, iteration time 0.152774\n",
            "Running validation set...\n",
            "Epoch 1300, Total loss 32202.390625, iteration time 0.165455\n",
            "Running validation set...\n",
            "Epoch 1400, Total loss 29330.701172, iteration time 0.155222\n",
            "Running validation set...\n",
            "Epoch 1500, Total loss 31348.511719, iteration time 0.154123\n",
            "Running validation set...\n",
            "Epoch 1600, Total loss 30536.042969, iteration time 0.155065\n",
            "Running validation set...\n",
            "Epoch 1700, Total loss 31364.617188, iteration time 0.154155\n",
            "Running validation set...\n",
            "Epoch 1800, Total loss 28065.162109, iteration time 0.153656\n",
            "Running validation set...\n",
            "Epoch 1900, Total loss 33634.968750, iteration time 0.155019\n",
            "Running validation set...\n",
            "Epoch 2000, Total loss 31136.238281, iteration time 0.127646\n",
            "Running validation set...\n",
            "Epoch 2100, Total loss 27629.136719, iteration time 0.156155\n",
            "Running validation set...\n",
            "Epoch 2200, Total loss 33574.062500, iteration time 0.154682\n",
            "Running validation set...\n",
            "Epoch 2300, Total loss 28314.417969, iteration time 0.156124\n",
            "Running validation set...\n",
            "Epoch 2400, Total loss 28719.152344, iteration time 0.162559\n",
            "Running validation set...\n",
            "Epoch 2500, Total loss 29248.257812, iteration time 0.153795\n",
            "Running validation set...\n",
            "Epoch 2600, Total loss 27111.072266, iteration time 0.153661\n",
            "Running validation set...\n",
            "Epoch 2700, Total loss 27248.654297, iteration time 0.154185\n",
            "Running validation set...\n",
            "Epoch 2800, Total loss 25595.031250, iteration time 0.157988\n",
            "Running validation set...\n",
            "Epoch 2900, Total loss 26024.201172, iteration time 0.155140\n",
            "Running validation set...\n",
            "Epoch 3000, Total loss 31217.683594, iteration time 0.116051\n",
            "Running validation set...\n",
            "Epoch 3100, Total loss 31477.308594, iteration time 0.155294\n",
            "Running validation set...\n",
            "Epoch 3200, Total loss 26408.615234, iteration time 0.154355\n",
            "Running validation set...\n",
            "Epoch 3300, Total loss 36416.335938, iteration time 0.155219\n",
            "Running validation set...\n",
            "Epoch 3400, Total loss 25450.312500, iteration time 0.153183\n",
            "Running validation set...\n",
            "Epoch 3500, Total loss 24919.259766, iteration time 0.172424\n",
            "Running validation set...\n",
            "Epoch 3600, Total loss 27937.742188, iteration time 0.161352\n",
            "Running validation set...\n",
            "Epoch 3700, Total loss 26713.041016, iteration time 0.152506\n",
            "Running validation set...\n",
            "Epoch 3800, Total loss 15969.433594, iteration time 0.156687\n",
            "Running validation set...\n",
            "Epoch 3900, Total loss 17685.513672, iteration time 0.154215\n",
            "Running validation set...\n",
            "Epoch 4000, Total loss 18209.339844, iteration time 0.113642\n",
            "Running validation set...\n",
            "Epoch 4100, Total loss 17294.285156, iteration time 0.153013\n",
            "Running validation set...\n",
            "Epoch 4200, Total loss 17780.437500, iteration time 0.156317\n",
            "Running validation set...\n",
            "Epoch 4300, Total loss 17464.775391, iteration time 0.155342\n",
            "Running validation set...\n",
            "Epoch 4400, Total loss 18055.794922, iteration time 0.155557\n",
            "Running validation set...\n",
            "Epoch 4500, Total loss 17413.154297, iteration time 0.155731\n",
            "Running validation set...\n",
            "Epoch 4600, Total loss 18939.947266, iteration time 0.161703\n",
            "Running validation set...\n",
            "Epoch 4700, Total loss 16591.861328, iteration time 0.156086\n",
            "Running validation set...\n",
            "Epoch 4800, Total loss 15799.100586, iteration time 0.153141\n",
            "Running validation set...\n",
            "Epoch 4900, Total loss 16326.283203, iteration time 0.152058\n",
            "Running validation set...\n",
            "Epoch 5000, Total loss 16815.910156, iteration time 0.113802\n",
            "Running validation set...\n",
            "Epoch 5100, Total loss 16450.759766, iteration time 0.155157\n",
            "Running validation set...\n",
            "Epoch 5200, Total loss 16862.312500, iteration time 0.152069\n",
            "Running validation set...\n",
            "Epoch 5300, Total loss 16432.662109, iteration time 0.159492\n",
            "Running validation set...\n",
            "Epoch 5400, Total loss 17480.876953, iteration time 0.153455\n",
            "Running validation set...\n",
            "Epoch 5500, Total loss 18315.669922, iteration time 0.156841\n",
            "Running validation set...\n",
            "Epoch 5600, Total loss 18648.279297, iteration time 0.155423\n",
            "Running validation set...\n",
            "Epoch 5700, Total loss 19563.910156, iteration time 0.152315\n",
            "Running validation set...\n",
            "Epoch 5800, Total loss 17412.212891, iteration time 0.158808\n",
            "Running validation set...\n",
            "Epoch 5900, Total loss 16719.880859, iteration time 0.153231\n",
            "Running validation set...\n",
            "Epoch 6000, Total loss 17870.337891, iteration time 0.116111\n",
            "Running validation set...\n",
            "Epoch 6100, Total loss 17619.287109, iteration time 0.154610\n",
            "Running validation set...\n",
            "Epoch 6200, Total loss 15963.670898, iteration time 0.154720\n",
            "Running validation set...\n",
            "Epoch 6300, Total loss 16795.580078, iteration time 0.154420\n",
            "Running validation set...\n",
            "Epoch 6400, Total loss 16892.205078, iteration time 0.159240\n",
            "Running validation set...\n",
            "Epoch 6500, Total loss 16815.654297, iteration time 0.153816\n",
            "Running validation set...\n",
            "Epoch 6600, Total loss 16982.341797, iteration time 0.153134\n",
            "Running validation set...\n",
            "Epoch 6700, Total loss 17403.515625, iteration time 0.154276\n",
            "Running validation set...\n",
            "Epoch 6800, Total loss 15817.723633, iteration time 0.159415\n",
            "Running validation set...\n",
            "Epoch 6900, Total loss 15719.139648, iteration time 0.153933\n",
            "Running validation set...\n",
            "Epoch 7000, Total loss 16366.310547, iteration time 0.113734\n",
            "Running validation set...\n",
            "Epoch 7100, Total loss 16554.033203, iteration time 0.159532\n",
            "Running validation set...\n",
            "Epoch 7200, Total loss 16085.893555, iteration time 0.158288\n",
            "Running validation set...\n",
            "Epoch 7300, Total loss 17250.283203, iteration time 0.155465\n",
            "Running validation set...\n",
            "Epoch 7400, Total loss 13460.162109, iteration time 0.153262\n",
            "Running validation set...\n",
            "Epoch 7500, Total loss 16507.953125, iteration time 0.155685\n",
            "Running validation set...\n",
            "Epoch 7600, Total loss 17597.992188, iteration time 0.155179\n",
            "Running validation set...\n",
            "Epoch 7700, Total loss 16158.031250, iteration time 0.155012\n",
            "Running validation set...\n",
            "Epoch 7800, Total loss 16541.486328, iteration time 0.155146\n",
            "Running validation set...\n",
            "Epoch 7900, Total loss 15970.892578, iteration time 0.160919\n",
            "Running validation set...\n",
            "Epoch 8000, Total loss 13459.449219, iteration time 0.114217\n",
            "Running validation set...\n",
            "Epoch 8100, Total loss 15574.975586, iteration time 0.154062\n",
            "Running validation set...\n",
            "Epoch 8200, Total loss 16501.093750, iteration time 0.154386\n",
            "Running validation set...\n",
            "Epoch 8300, Total loss 16389.781250, iteration time 0.153022\n",
            "Running validation set...\n",
            "Epoch 8400, Total loss 16778.408203, iteration time 0.156255\n",
            "Running validation set...\n",
            "Epoch 8500, Total loss 15217.891602, iteration time 0.158257\n",
            "Running validation set...\n",
            "Epoch 8600, Total loss 15149.055664, iteration time 0.136543\n",
            "Running validation set...\n",
            "Epoch 8700, Total loss 16901.203125, iteration time 0.156127\n",
            "Running validation set...\n",
            "Epoch 8800, Total loss 16810.359375, iteration time 0.155771\n",
            "Running validation set...\n",
            "Epoch 8900, Total loss 16844.916016, iteration time 0.153813\n",
            "Running validation set...\n",
            "Epoch 9000, Total loss 17927.919922, iteration time 0.112965\n",
            "Running validation set...\n"
          ]
        },
        {
          "output_type": "error",
          "ename": "KeyboardInterrupt",
          "evalue": "",
          "traceback": [
            "\u001b[0;31m---------------------------------------------------------------------------\u001b[0m",
            "\u001b[0;31mKeyboardInterrupt\u001b[0m                         Traceback (most recent call last)",
            "\u001b[0;32m<ipython-input-8-db3039e566b8>\u001b[0m in \u001b[0;36m<cell line: 0>\u001b[0;34m()\u001b[0m\n\u001b[1;32m     58\u001b[0m \u001b[0mroot_path\u001b[0m \u001b[0;34m=\u001b[0m \u001b[0mos\u001b[0m\u001b[0;34m.\u001b[0m\u001b[0mpath\u001b[0m\u001b[0;34m.\u001b[0m\u001b[0mjoin\u001b[0m\u001b[0;34m(\u001b[0m\u001b[0mlogging_root\u001b[0m\u001b[0;34m,\u001b[0m \u001b[0mexperiment_name\u001b[0m\u001b[0;34m)\u001b[0m\u001b[0;34m\u001b[0m\u001b[0;34m\u001b[0m\u001b[0m\n\u001b[1;32m     59\u001b[0m \u001b[0;34m\u001b[0m\u001b[0m\n\u001b[0;32m---> 60\u001b[0;31m training.train(\n\u001b[0m\u001b[1;32m     61\u001b[0m     \u001b[0mmodel\u001b[0m\u001b[0;34m=\u001b[0m\u001b[0mmodel\u001b[0m\u001b[0;34m,\u001b[0m\u001b[0;34m\u001b[0m\u001b[0;34m\u001b[0m\u001b[0m\n\u001b[1;32m     62\u001b[0m     \u001b[0mtrain_dataloader\u001b[0m\u001b[0;34m=\u001b[0m\u001b[0mtrain_dataloader\u001b[0m\u001b[0;34m,\u001b[0m\u001b[0;34m\u001b[0m\u001b[0;34m\u001b[0m\u001b[0m\n",
            "\u001b[0;32m/content/PINN-Helmholtz/training.py\u001b[0m in \u001b[0;36mtrain\u001b[0;34m(model, train_dataloader, epochs, lr, steps_til_summary, epochs_til_checkpoint, model_dir, loss_fn, summary_fn, val_dataloader, double_precision, clip_grad, use_lbfgs, loss_schedules)\u001b[0m\n\u001b[1;32m     97\u001b[0m                 \u001b[0;32mif\u001b[0m \u001b[0;32mnot\u001b[0m \u001b[0muse_lbfgs\u001b[0m\u001b[0;34m:\u001b[0m\u001b[0;34m\u001b[0m\u001b[0;34m\u001b[0m\u001b[0m\n\u001b[1;32m     98\u001b[0m                     \u001b[0moptim\u001b[0m\u001b[0;34m.\u001b[0m\u001b[0mzero_grad\u001b[0m\u001b[0;34m(\u001b[0m\u001b[0;34m)\u001b[0m\u001b[0;34m\u001b[0m\u001b[0;34m\u001b[0m\u001b[0m\n\u001b[0;32m---> 99\u001b[0;31m                     \u001b[0mtrain_loss\u001b[0m\u001b[0;34m.\u001b[0m\u001b[0mbackward\u001b[0m\u001b[0;34m(\u001b[0m\u001b[0;34m)\u001b[0m\u001b[0;34m\u001b[0m\u001b[0;34m\u001b[0m\u001b[0m\n\u001b[0m\u001b[1;32m    100\u001b[0m \u001b[0;34m\u001b[0m\u001b[0m\n\u001b[1;32m    101\u001b[0m                     \u001b[0;32mif\u001b[0m \u001b[0mclip_grad\u001b[0m\u001b[0;34m:\u001b[0m\u001b[0;34m\u001b[0m\u001b[0;34m\u001b[0m\u001b[0m\n",
            "\u001b[0;32m/usr/local/lib/python3.11/dist-packages/torch/_tensor.py\u001b[0m in \u001b[0;36mbackward\u001b[0;34m(self, gradient, retain_graph, create_graph, inputs)\u001b[0m\n\u001b[1;32m    646\u001b[0m                 \u001b[0minputs\u001b[0m\u001b[0;34m=\u001b[0m\u001b[0minputs\u001b[0m\u001b[0;34m,\u001b[0m\u001b[0;34m\u001b[0m\u001b[0;34m\u001b[0m\u001b[0m\n\u001b[1;32m    647\u001b[0m             )\n\u001b[0;32m--> 648\u001b[0;31m         torch.autograd.backward(\n\u001b[0m\u001b[1;32m    649\u001b[0m             \u001b[0mself\u001b[0m\u001b[0;34m,\u001b[0m \u001b[0mgradient\u001b[0m\u001b[0;34m,\u001b[0m \u001b[0mretain_graph\u001b[0m\u001b[0;34m,\u001b[0m \u001b[0mcreate_graph\u001b[0m\u001b[0;34m,\u001b[0m \u001b[0minputs\u001b[0m\u001b[0;34m=\u001b[0m\u001b[0minputs\u001b[0m\u001b[0;34m\u001b[0m\u001b[0;34m\u001b[0m\u001b[0m\n\u001b[1;32m    650\u001b[0m         )\n",
            "\u001b[0;32m/usr/local/lib/python3.11/dist-packages/torch/autograd/__init__.py\u001b[0m in \u001b[0;36mbackward\u001b[0;34m(tensors, grad_tensors, retain_graph, create_graph, grad_variables, inputs)\u001b[0m\n\u001b[1;32m    351\u001b[0m     \u001b[0;31m# some Python versions print out the first line of a multi-line function\u001b[0m\u001b[0;34m\u001b[0m\u001b[0;34m\u001b[0m\u001b[0m\n\u001b[1;32m    352\u001b[0m     \u001b[0;31m# calls in the traceback and some print out the last line\u001b[0m\u001b[0;34m\u001b[0m\u001b[0;34m\u001b[0m\u001b[0m\n\u001b[0;32m--> 353\u001b[0;31m     _engine_run_backward(\n\u001b[0m\u001b[1;32m    354\u001b[0m         \u001b[0mtensors\u001b[0m\u001b[0;34m,\u001b[0m\u001b[0;34m\u001b[0m\u001b[0;34m\u001b[0m\u001b[0m\n\u001b[1;32m    355\u001b[0m         \u001b[0mgrad_tensors_\u001b[0m\u001b[0;34m,\u001b[0m\u001b[0;34m\u001b[0m\u001b[0;34m\u001b[0m\u001b[0m\n",
            "\u001b[0;32m/usr/local/lib/python3.11/dist-packages/torch/autograd/graph.py\u001b[0m in \u001b[0;36m_engine_run_backward\u001b[0;34m(t_outputs, *args, **kwargs)\u001b[0m\n\u001b[1;32m    822\u001b[0m         \u001b[0munregister_hooks\u001b[0m \u001b[0;34m=\u001b[0m \u001b[0m_register_logging_hooks_on_whole_graph\u001b[0m\u001b[0;34m(\u001b[0m\u001b[0mt_outputs\u001b[0m\u001b[0;34m)\u001b[0m\u001b[0;34m\u001b[0m\u001b[0;34m\u001b[0m\u001b[0m\n\u001b[1;32m    823\u001b[0m     \u001b[0;32mtry\u001b[0m\u001b[0;34m:\u001b[0m\u001b[0;34m\u001b[0m\u001b[0;34m\u001b[0m\u001b[0m\n\u001b[0;32m--> 824\u001b[0;31m         return Variable._execution_engine.run_backward(  # Calls into the C++ engine to run the backward pass\n\u001b[0m\u001b[1;32m    825\u001b[0m             \u001b[0mt_outputs\u001b[0m\u001b[0;34m,\u001b[0m \u001b[0;34m*\u001b[0m\u001b[0margs\u001b[0m\u001b[0;34m,\u001b[0m \u001b[0;34m**\u001b[0m\u001b[0mkwargs\u001b[0m\u001b[0;34m\u001b[0m\u001b[0;34m\u001b[0m\u001b[0m\n\u001b[1;32m    826\u001b[0m         )  # Calls into the C++ engine to run the backward pass\n",
            "\u001b[0;31mKeyboardInterrupt\u001b[0m: "
          ]
        }
      ]
    },
    {
      "cell_type": "markdown",
      "source": [
        "###Display Results"
      ],
      "metadata": {
        "id": "bQLUeJRc5HJg"
      }
    },
    {
      "cell_type": "code",
      "execution_count": 9,
      "metadata": {
        "pycharm": {
          "name": "#%%\n"
        },
        "id": "3_d9wSAXEpL4",
        "colab": {
          "base_uri": "https://localhost:8080/",
          "height": 661
        },
        "outputId": "910db299-abc6-4694-86a7-ce715fe1fe9d"
      },
      "outputs": [
        {
          "output_type": "display_data",
          "data": {
            "text/plain": [
              "<Figure size 800x800 with 2 Axes>"
            ],
            "image/png": "[encoded data removed]"
          },
          "metadata": {}
        }
      ],
      "source": [
        "out_length = 600\n",
        "with torch.no_grad():\n",
        "    coords = utils.get_mgrid(int(side_length))\n",
        "    model_out = model({'coords':coords.cuda()})\n",
        "\n",
        "    fig, ax = plt.subplots(figsize=(8,8))\n",
        "    E2 = model_out['model_out'][:,0]**2 + model_out['model_out'][:,1]**2\n",
        "    absE = torch.sqrt(E2)\n",
        "    im = ax.imshow(absE.cpu().view(int(side_length),int(side_length)).numpy().T,\n",
        "                   extent=out_length*np.array([0,1,1,0]))\n",
        "    im.set_clim([0,0.15])\n",
        "    fig.colorbar(im, orientation='vertical')\n",
        "    plt.show()"
      ]
    },
    {
      "cell_type": "markdown",
      "source": [
        "###Save Model"
      ],
      "metadata": {
        "id": "5ZOnH36V5Naw"
      }
    },
    {
      "cell_type": "code",
      "source": [
        "torch.save(model,'model_wl'+str(wavelength)+'.h5')"
      ],
      "metadata": {
        "id": "sEXwhsuA9kuT"
      },
      "execution_count": 10,
      "outputs": []
    },
    {
      "cell_type": "markdown",
      "source": [
        "#Load Pretrained Model and Plot"
      ],
      "metadata": {
        "id": "e9ZxSLkz5S74"
      }
    },
    {
      "cell_type": "code",
      "source": [
        "model1 = torch.load('model_wl0.3.h5',weights_only=False)\n",
        "out_length = 600\n",
        "with torch.no_grad():\n",
        "    coords = utils.get_mgrid(int(side_length))\n",
        "    model_out = model1({'coords':coords.cuda()})\n",
        "\n",
        "    fig, ax = plt.subplots(figsize=(8,8))\n",
        "    E2 = model_out['model_out'][:,0]**2 + model_out['model_out'][:,1]**2\n",
        "    absE = torch.sqrt(E2)\n",
        "    im = ax.imshow(absE.cpu().view(int(side_length),int(side_length)).numpy().T,\n",
        "                   extent=out_length*np.array([0,1,1,0]))\n",
        "    im.set_clim([0,0.1])\n",
        "    fig.colorbar(im, orientation='vertical')\n",
        "    plt.show()"
      ],
      "metadata": {
        "id": "Yq-uDborgKce",
        "colab": {
          "base_uri": "https://localhost:8080/",
          "height": 666
        },
        "outputId": "9be4ec62-4897-4d1b-de3a-dc6d27c5bf34"
      },
      "execution_count": 12,
      "outputs": [
        {
          "output_type": "display_data",
          "data": {
            "text/plain": [
              "<Figure size 800x800 with 2 Axes>"
            ],
            "image/png": "[encoded data removed]"
          },
          "metadata": {}
        }
      ]
    },
    {
      "cell_type": "code",
      "source": [
        "model1 = torch.load('model_wl0.2.h5',weights_only=False)\n",
        "out_length = 600\n",
        "with torch.no_grad():\n",
        "    coords = utils.get_mgrid(int(side_length))\n",
        "    model_out = model1({'coords':coords.cuda()})\n",
        "\n",
        "    fig, ax = plt.subplots(figsize=(8,8))\n",
        "    E2 = model_out['model_out'][:,0]**2 + model_out['model_out'][:,1]**2\n",
        "    absE = torch.sqrt(E2)\n",
        "    im = ax.imshow(absE.cpu().view(int(side_length),int(side_length)).numpy().T,\n",
        "                   extent=out_length*np.array([0,1,1,0]))\n",
        "    im.set_clim([0,0.1])\n",
        "    fig.colorbar(im, orientation='vertical')\n",
        "    plt.show()"
      ],
      "metadata": {
        "colab": {
          "base_uri": "https://localhost:8080/",
          "height": 666
        },
        "id": "EycBdqqn5bPq",
        "outputId": "0ceb180b-57a2-4aca-bc34-87a6a2f3f5d6"
      },
      "execution_count": 13,
      "outputs": [
        {
          "output_type": "display_data",
          "data": {
            "text/plain": [
              "<Figure size 800x800 with 2 Axes>"
            ],
            "image/png": "[encoded data removed]"
          },
          "metadata": {}
        }
      ]
    },
    {
      "cell_type": "markdown",
      "source": [
        "# Install Necessary Packages\n",
        "##Clone repository"
      ],
      "metadata": {
        "id": "RTin_JcIuLIq"
      }
    },
    {
      "cell_type": "code",
      "execution_count": null,
      "metadata": {
        "colab": {
          "base_uri": "https://localhost:8080/"
        },
        "id": "9p8yjiLT5hgX",
        "outputId": "c5481749-73a4-485b-df3c-b9a27068ef7f"
      },
      "outputs": [
        {
          "output_type": "stream",
          "name": "stdout",
          "text": [
            "Cloning into 'PINN-Helmholtz'...\n",
            "remote: Enumerating objects: 45, done.\u001b[K\n",
            "remote: Counting objects: 100% (45/45), done.\u001b[K\n",
            "remote: Compressing objects: 100% (34/34), done.\u001b[K\n",
            "remote: Total 45 (delta 17), reused 22 (delta 10), pack-reused 0 (from 0)\u001b[K\n",
            "Receiving objects: 100% (45/45), 22.40 KiB | 3.20 MiB/s, done.\n",
            "Resolving deltas: 100% (17/17), done.\n"
          ]
        }
      ],
      "source": [
        "!git clone https://github.com/habudayyeh/PINN-Helmholtz.git"
      ]
    },
    {
      "cell_type": "markdown",
      "source": [
        "## Change directory and install necessary packages:"
      ],
      "metadata": {
        "id": "BCoIJ85mumQC"
      }
    },
    {
      "cell_type": "code",
      "source": [
        "import os\n",
        "print(os.getcwd())\n",
        "os.chdir('/content/PINN-Helmholtz')\n",
        "print(os.getcwd())"
      ],
      "metadata": {
        "colab": {
          "base_uri": "https://localhost:8080/"
        },
        "id": "fT2EkHL-5x3n",
        "outputId": "3c590291-1d16-4d17-d885-809ab30b54da"
      },
      "execution_count": null,
      "outputs": [
        {
          "output_type": "stream",
          "name": "stdout",
          "text": [
            "/content\n",
            "/content/PINN-Helmholtz\n"
          ]
        }
      ]
    },
    {
      "cell_type": "code",
      "source": [
        "!pip install -r requirements.txt"
      ],
      "metadata": {
        "colab": {
          "base_uri": "https://localhost:8080/"
        },
        "collapsed": true,
        "id": "YVrJhNJe6Hzu",
        "outputId": "d7d723ce-0b86-45c7-f10c-3e81491f72d7"
      },
      "execution_count": null,
      "outputs": [
        {
          "output_type": "stream",
          "name": "stdout",
          "text": [
            "Found existing installation: numpy 2.0.2\n",
            "Uninstalling numpy-2.0.2:\n",
            "  Would remove:\n",
            "    /usr/local/bin/f2py\n",
            "    /usr/local/bin/numpy-config\n",
            "    /usr/local/lib/python3.11/dist-packages/numpy-2.0.2.dist-info/*\n",
            "    /usr/local/lib/python3.11/dist-packages/numpy.libs/libgfortran-040039e1-0352e75f.so.5.0.0\n",
            "    /usr/local/lib/python3.11/dist-packages/numpy.libs/libquadmath-96973f99-934c22de.so.0.0.0\n",
            "    /usr/local/lib/python3.11/dist-packages/numpy.libs/libscipy_openblas64_-99b71e71.so\n",
            "    /usr/local/lib/python3.11/dist-packages/numpy/*\n",
            "Proceed (Y/n)? y\n",
            "  Successfully uninstalled numpy-2.0.2\n",
            "Collecting numpy==2.2.5 (from -r requirements.txt (line 1))\n",
            "  Downloading numpy-2.2.5-cp311-cp311-manylinux_2_17_x86_64.manylinux2014_x86_64.whl.metadata (62 kB)\n",
            "\u001b[2K     \u001b[90m━━━━━━━━━━━━━━━━━━━━━━━━━━━━━━━━━━━━━━━━\u001b[0m \u001b[32m62.0/62.0 kB\u001b[0m \u001b[31m5.4 MB/s\u001b[0m eta \u001b[36m0:00:00\u001b[0m\n",
            "\u001b[?25hRequirement already satisfied: scipy==1.15.2 in /usr/local/lib/python3.11/dist-packages (from -r requirements.txt (line 2)) (1.15.2)\n",
            "Collecting torch==2.7.0 (from -r requirements.txt (line 3))\n",
            "  Downloading torch-2.7.0-cp311-cp311-manylinux_2_28_x86_64.whl.metadata (29 kB)\n",
            "Collecting torchvision==0.22.0 (from -r requirements.txt (line 4))\n",
            "  Downloading torchvision-0.22.0-cp311-cp311-manylinux_2_28_x86_64.whl.metadata (6.1 kB)\n",
            "Requirement already satisfied: tqdm==4.67.1 in /usr/local/lib/python3.11/dist-packages (from -r requirements.txt (line 5)) (4.67.1)\n",
            "Requirement already satisfied: filelock in /usr/local/lib/python3.11/dist-packages (from torch==2.7.0->-r requirements.txt (line 3)) (3.18.0)\n",
            "Requirement already satisfied: typing-extensions>=4.10.0 in /usr/local/lib/python3.11/dist-packages (from torch==2.7.0->-r requirements.txt (line 3)) (4.13.2)\n",
            "Collecting sympy>=1.13.3 (from torch==2.7.0->-r requirements.txt (line 3))\n",
            "  Downloading sympy-1.14.0-py3-none-any.whl.metadata (12 kB)\n",
            "Requirement already satisfied: networkx in /usr/local/lib/python3.11/dist-packages (from torch==2.7.0->-r requirements.txt (line 3)) (3.4.2)\n",
            "Requirement already satisfied: jinja2 in /usr/local/lib/python3.11/dist-packages (from torch==2.7.0->-r requirements.txt (line 3)) (3.1.6)\n",
            "Requirement already satisfied: fsspec in /usr/local/lib/python3.11/dist-packages (from torch==2.7.0->-r requirements.txt (line 3)) (2025.3.2)\n",
            "Collecting nvidia-cuda-nvrtc-cu12==12.6.77 (from torch==2.7.0->-r requirements.txt (line 3))\n",
            "  Downloading nvidia_cuda_nvrtc_cu12-12.6.77-py3-none-manylinux2014_x86_64.whl.metadata (1.5 kB)\n",
            "Collecting nvidia-cuda-runtime-cu12==12.6.77 (from torch==2.7.0->-r requirements.txt (line 3))\n",
            "  Downloading nvidia_cuda_runtime_cu12-12.6.77-py3-none-manylinux2014_x86_64.manylinux_2_17_x86_64.whl.metadata (1.5 kB)\n",
            "Collecting nvidia-cuda-cupti-cu12==12.6.80 (from torch==2.7.0->-r requirements.txt (line 3))\n",
            "  Downloading nvidia_cuda_cupti_cu12-12.6.80-py3-none-manylinux2014_x86_64.manylinux_2_17_x86_64.whl.metadata (1.6 kB)\n",
            "Collecting nvidia-cudnn-cu12==9.5.1.17 (from torch==2.7.0->-r requirements.txt (line 3))\n",
            "  Downloading nvidia_cudnn_cu12-9.5.1.17-py3-none-manylinux_2_28_x86_64.whl.metadata (1.6 kB)\n",
            "Collecting nvidia-cublas-cu12==12.6.4.1 (from torch==2.7.0->-r requirements.txt (line 3))\n",
            "  Downloading nvidia_cublas_cu12-12.6.4.1-py3-none-manylinux2014_x86_64.manylinux_2_17_x86_64.whl.metadata (1.5 kB)\n",
            "Collecting nvidia-cufft-cu12==11.3.0.4 (from torch==2.7.0->-r requirements.txt (line 3))\n",
            "  Downloading nvidia_cufft_cu12-11.3.0.4-py3-none-manylinux2014_x86_64.manylinux_2_17_x86_64.whl.metadata (1.5 kB)\n",
            "Collecting nvidia-curand-cu12==10.3.7.77 (from torch==2.7.0->-r requirements.txt (line 3))\n",
            "  Downloading nvidia_curand_cu12-10.3.7.77-py3-none-manylinux2014_x86_64.manylinux_2_17_x86_64.whl.metadata (1.5 kB)\n",
            "Collecting nvidia-cusolver-cu12==11.7.1.2 (from torch==2.7.0->-r requirements.txt (line 3))\n",
            "  Downloading nvidia_cusolver_cu12-11.7.1.2-py3-none-manylinux2014_x86_64.manylinux_2_17_x86_64.whl.metadata (1.6 kB)\n",
            "Collecting nvidia-cusparse-cu12==12.5.4.2 (from torch==2.7.0->-r requirements.txt (line 3))\n",
            "  Downloading nvidia_cusparse_cu12-12.5.4.2-py3-none-manylinux2014_x86_64.manylinux_2_17_x86_64.whl.metadata (1.6 kB)\n",
            "Collecting nvidia-cusparselt-cu12==0.6.3 (from torch==2.7.0->-r requirements.txt (line 3))\n",
            "  Downloading nvidia_cusparselt_cu12-0.6.3-py3-none-manylinux2014_x86_64.whl.metadata (6.8 kB)\n",
            "Collecting nvidia-nccl-cu12==2.26.2 (from torch==2.7.0->-r requirements.txt (line 3))\n",
            "  Downloading nvidia_nccl_cu12-2.26.2-py3-none-manylinux2014_x86_64.manylinux_2_17_x86_64.whl.metadata (2.0 kB)\n",
            "Collecting nvidia-nvtx-cu12==12.6.77 (from torch==2.7.0->-r requirements.txt (line 3))\n",
            "  Downloading nvidia_nvtx_cu12-12.6.77-py3-none-manylinux2014_x86_64.manylinux_2_17_x86_64.whl.metadata (1.6 kB)\n",
            "Collecting nvidia-nvjitlink-cu12==12.6.85 (from torch==2.7.0->-r requirements.txt (line 3))\n",
            "  Downloading nvidia_nvjitlink_cu12-12.6.85-py3-none-manylinux2010_x86_64.manylinux_2_12_x86_64.whl.metadata (1.5 kB)\n",
            "Collecting nvidia-cufile-cu12==1.11.1.6 (from torch==2.7.0->-r requirements.txt (line 3))\n",
            "  Downloading nvidia_cufile_cu12-1.11.1.6-py3-none-manylinux2014_x86_64.manylinux_2_17_x86_64.whl.metadata (1.5 kB)\n",
            "Collecting triton==3.3.0 (from torch==2.7.0->-r requirements.txt (line 3))\n",
            "  Downloading triton-3.3.0-cp311-cp311-manylinux_2_27_x86_64.manylinux_2_28_x86_64.whl.metadata (1.5 kB)\n",
            "Requirement already satisfied: pillow!=8.3.*,>=5.3.0 in /usr/local/lib/python3.11/dist-packages (from torchvision==0.22.0->-r requirements.txt (line 4)) (11.2.1)\n",
            "Requirement already satisfied: setuptools>=40.8.0 in /usr/local/lib/python3.11/dist-packages (from triton==3.3.0->torch==2.7.0->-r requirements.txt (line 3)) (75.2.0)\n",
            "Requirement already satisfied: mpmath<1.4,>=1.1.0 in /usr/local/lib/python3.11/dist-packages (from sympy>=1.13.3->torch==2.7.0->-r requirements.txt (line 3)) (1.3.0)\n",
            "Requirement already satisfied: MarkupSafe>=2.0 in /usr/local/lib/python3.11/dist-packages (from jinja2->torch==2.7.0->-r requirements.txt (line 3)) (3.0.2)\n",
            "Downloading numpy-2.2.5-cp311-cp311-manylinux_2_17_x86_64.manylinux2014_x86_64.whl (16.4 MB)\n",
            "\u001b[2K   \u001b[90m━━━━━━━━━━━━━━━━━━━━━━━━━━━━━━━━━━━━━━━━\u001b[0m \u001b[32m16.4/16.4 MB\u001b[0m \u001b[31m107.9 MB/s\u001b[0m eta \u001b[36m0:00:00\u001b[0m\n",
            "\u001b[?25hDownloading torch-2.7.0-cp311-cp311-manylinux_2_28_x86_64.whl (865.2 MB)\n",
            "\u001b[2K   \u001b[90m━━━━━━━━━━━━━━━━━━━━━━━━━━━━━━━━━━━━━━━━\u001b[0m \u001b[32m865.2/865.2 MB\u001b[0m \u001b[31m1.4 MB/s\u001b[0m eta \u001b[36m0:00:00\u001b[0m\n",
            "\u001b[?25hDownloading torchvision-0.22.0-cp311-cp311-manylinux_2_28_x86_64.whl (7.4 MB)\n",
            "\u001b[2K   \u001b[90m━━━━━━━━━━━━━━━━━━━━━━━━━━━━━━━━━━━━━━━━\u001b[0m \u001b[32m7.4/7.4 MB\u001b[0m \u001b[31m68.3 MB/s\u001b[0m eta \u001b[36m0:00:00\u001b[0m\n",
            "\u001b[?25hDownloading nvidia_cublas_cu12-12.6.4.1-py3-none-manylinux2014_x86_64.manylinux_2_17_x86_64.whl (393.1 MB)\n",
            "\u001b[2K   \u001b[90m━━━━━━━━━━━━━━━━━━━━━━━━━━━━━━━━━━━━━━━━\u001b[0m \u001b[32m393.1/393.1 MB\u001b[0m \u001b[31m3.8 MB/s\u001b[0m eta \u001b[36m0:00:00\u001b[0m\n",
            "\u001b[?25hDownloading nvidia_cuda_cupti_cu12-12.6.80-py3-none-manylinux2014_x86_64.manylinux_2_17_x86_64.whl (8.9 MB)\n",
            "\u001b[2K   \u001b[90m━━━━━━━━━━━━━━━━━━━━━━━━━━━━━━━━━━━━━━━━\u001b[0m \u001b[32m8.9/8.9 MB\u001b[0m \u001b[31m97.4 MB/s\u001b[0m eta \u001b[36m0:00:00\u001b[0m\n",
            "\u001b[?25hDownloading nvidia_cuda_nvrtc_cu12-12.6.77-py3-none-manylinux2014_x86_64.whl (23.7 MB)\n",
            "\u001b[2K   \u001b[90m━━━━━━━━━━━━━━━━━━━━━━━━━━━━━━━━━━━━━━━━\u001b[0m \u001b[32m23.7/23.7 MB\u001b[0m \u001b[31m96.2 MB/s\u001b[0m eta \u001b[36m0:00:00\u001b[0m\n",
            "\u001b[?25hDownloading nvidia_cuda_runtime_cu12-12.6.77-py3-none-manylinux2014_x86_64.manylinux_2_17_x86_64.whl (897 kB)\n",
            "\u001b[2K   \u001b[90m━━━━━━━━━━━━━━━━━━━━━━━━━━━━━━━━━━━━━━━━\u001b[0m \u001b[32m897.7/897.7 kB\u001b[0m \u001b[31m60.8 MB/s\u001b[0m eta \u001b[36m0:00:00\u001b[0m\n",
            "\u001b[?25hDownloading nvidia_cudnn_cu12-9.5.1.17-py3-none-manylinux_2_28_x86_64.whl (571.0 MB)\n",
            "\u001b[2K   \u001b[90m━━━━━━━━━━━━━━━━━━━━━━━━━━━━━━━━━━━━━━━━\u001b[0m \u001b[32m571.0/571.0 MB\u001b[0m \u001b[31m1.2 MB/s\u001b[0m eta \u001b[36m0:00:00\u001b[0m\n",
            "\u001b[?25hDownloading nvidia_cufft_cu12-11.3.0.4-py3-none-manylinux2014_x86_64.manylinux_2_17_x86_64.whl (200.2 MB)\n",
            "\u001b[2K   \u001b[90m━━━━━━━━━━━━━━━━━━━━━━━━━━━━━━━━━━━━━━━━\u001b[0m \u001b[32m200.2/200.2 MB\u001b[0m \u001b[31m5.5 MB/s\u001b[0m eta \u001b[36m0:00:00\u001b[0m\n",
            "\u001b[?25hDownloading nvidia_cufile_cu12-1.11.1.6-py3-none-manylinux2014_x86_64.manylinux_2_17_x86_64.whl (1.1 MB)\n",
            "\u001b[2K   \u001b[90m━━━━━━━━━━━━━━━━━━━━━━━━━━━━━━━━━━━━━━━━\u001b[0m \u001b[32m1.1/1.1 MB\u001b[0m \u001b[31m59.7 MB/s\u001b[0m eta \u001b[36m0:00:00\u001b[0m\n",
            "\u001b[?25hDownloading nvidia_curand_cu12-10.3.7.77-py3-none-manylinux2014_x86_64.manylinux_2_17_x86_64.whl (56.3 MB)\n",
            "\u001b[2K   \u001b[90m━━━━━━━━━━━━━━━━━━━━━━━━━━━━━━━━━━━━━━━━\u001b[0m \u001b[32m56.3/56.3 MB\u001b[0m \u001b[31m11.9 MB/s\u001b[0m eta \u001b[36m0:00:00\u001b[0m\n",
            "\u001b[?25hDownloading nvidia_cusolver_cu12-11.7.1.2-py3-none-manylinux2014_x86_64.manylinux_2_17_x86_64.whl (158.2 MB)\n",
            "\u001b[2K   \u001b[90m━━━━━━━━━━━━━━━━━━━━━━━━━━━━━━━━━━━━━━━━\u001b[0m \u001b[32m158.2/158.2 MB\u001b[0m \u001b[31m6.5 MB/s\u001b[0m eta \u001b[36m0:00:00\u001b[0m\n",
            "\u001b[?25hDownloading nvidia_cusparse_cu12-12.5.4.2-py3-none-manylinux2014_x86_64.manylinux_2_17_x86_64.whl (216.6 MB)\n",
            "\u001b[2K   \u001b[90m━━━━━━━━━━━━━━━━━━━━━━━━━━━━━━━━━━━━━━━━\u001b[0m \u001b[32m216.6/216.6 MB\u001b[0m \u001b[31m5.5 MB/s\u001b[0m eta \u001b[36m0:00:00\u001b[0m\n",
            "\u001b[?25hDownloading nvidia_cusparselt_cu12-0.6.3-py3-none-manylinux2014_x86_64.whl (156.8 MB)\n",
            "\u001b[2K   \u001b[90m━━━━━━━━━━━━━━━━━━━━━━━━━━━━━━━━━━━━━━━━\u001b[0m \u001b[32m156.8/156.8 MB\u001b[0m \u001b[31m7.4 MB/s\u001b[0m eta \u001b[36m0:00:00\u001b[0m\n",
            "\u001b[?25hDownloading nvidia_nccl_cu12-2.26.2-py3-none-manylinux2014_x86_64.manylinux_2_17_x86_64.whl (201.3 MB)\n",
            "\u001b[2K   \u001b[90m━━━━━━━━━━━━━━━━━━━━━━━━━━━━━━━━━━━━━━━━\u001b[0m \u001b[32m201.3/201.3 MB\u001b[0m \u001b[31m6.5 MB/s\u001b[0m eta \u001b[36m0:00:00\u001b[0m\n",
            "\u001b[?25hDownloading nvidia_nvjitlink_cu12-12.6.85-py3-none-manylinux2010_x86_64.manylinux_2_12_x86_64.whl (19.7 MB)\n",
            "\u001b[2K   \u001b[90m━━━━━━━━━━━━━━━━━━━━━━━━━━━━━━━━━━━━━━━━\u001b[0m \u001b[32m19.7/19.7 MB\u001b[0m \u001b[31m45.8 MB/s\u001b[0m eta \u001b[36m0:00:00\u001b[0m\n",
            "\u001b[?25hDownloading nvidia_nvtx_cu12-12.6.77-py3-none-manylinux2014_x86_64.manylinux_2_17_x86_64.whl (89 kB)\n",
            "\u001b[2K   \u001b[90m━━━━━━━━━━━━━━━━━━━━━━━━━━━━━━━━━━━━━━━━\u001b[0m \u001b[32m89.3/89.3 kB\u001b[0m \u001b[31m7.6 MB/s\u001b[0m eta \u001b[36m0:00:00\u001b[0m\n",
            "\u001b[?25hDownloading triton-3.3.0-cp311-cp311-manylinux_2_27_x86_64.manylinux_2_28_x86_64.whl (156.5 MB)\n",
            "\u001b[2K   \u001b[90m━━━━━━━━━━━━━━━━━━━━━━━━━━━━━━━━━━━━━━━━\u001b[0m \u001b[32m156.5/156.5 MB\u001b[0m \u001b[31m6.5 MB/s\u001b[0m eta \u001b[36m0:00:00\u001b[0m\n",
            "\u001b[?25hDownloading sympy-1.14.0-py3-none-any.whl (6.3 MB)\n",
            "\u001b[2K   \u001b[90m━━━━━━━━━━━━━━━━━━━━━━━━━━━━━━━━━━━━━━━━\u001b[0m \u001b[32m6.3/6.3 MB\u001b[0m \u001b[31m54.1 MB/s\u001b[0m eta \u001b[36m0:00:00\u001b[0m\n",
            "\u001b[?25hInstalling collected packages: nvidia-cusparselt-cu12, triton, sympy, nvidia-nvtx-cu12, nvidia-nvjitlink-cu12, nvidia-nccl-cu12, nvidia-curand-cu12, nvidia-cufile-cu12, nvidia-cuda-runtime-cu12, nvidia-cuda-nvrtc-cu12, nvidia-cuda-cupti-cu12, nvidia-cublas-cu12, numpy, nvidia-cusparse-cu12, nvidia-cufft-cu12, nvidia-cudnn-cu12, nvidia-cusolver-cu12, torch, torchvision\n",
            "  Attempting uninstall: nvidia-cusparselt-cu12\n",
            "    Found existing installation: nvidia-cusparselt-cu12 0.6.2\n",
            "    Uninstalling nvidia-cusparselt-cu12-0.6.2:\n",
            "      Successfully uninstalled nvidia-cusparselt-cu12-0.6.2\n",
            "  Attempting uninstall: triton\n",
            "    Found existing installation: triton 3.2.0\n",
            "    Uninstalling triton-3.2.0:\n",
            "      Successfully uninstalled triton-3.2.0\n",
            "  Attempting uninstall: sympy\n",
            "    Found existing installation: sympy 1.13.1\n",
            "    Uninstalling sympy-1.13.1:\n",
            "      Successfully uninstalled sympy-1.13.1\n",
            "  Attempting uninstall: nvidia-nvtx-cu12\n",
            "    Found existing installation: nvidia-nvtx-cu12 12.4.127\n",
            "    Uninstalling nvidia-nvtx-cu12-12.4.127:\n",
            "      Successfully uninstalled nvidia-nvtx-cu12-12.4.127\n",
            "  Attempting uninstall: nvidia-nvjitlink-cu12\n",
            "    Found existing installation: nvidia-nvjitlink-cu12 12.5.82\n",
            "    Uninstalling nvidia-nvjitlink-cu12-12.5.82:\n",
            "      Successfully uninstalled nvidia-nvjitlink-cu12-12.5.82\n",
            "  Attempting uninstall: nvidia-nccl-cu12\n",
            "    Found existing installation: nvidia-nccl-cu12 2.21.5\n",
            "    Uninstalling nvidia-nccl-cu12-2.21.5:\n",
            "      Successfully uninstalled nvidia-nccl-cu12-2.21.5\n",
            "  Attempting uninstall: nvidia-curand-cu12\n",
            "    Found existing installation: nvidia-curand-cu12 10.3.6.82\n",
            "    Uninstalling nvidia-curand-cu12-10.3.6.82:\n",
            "      Successfully uninstalled nvidia-curand-cu12-10.3.6.82\n",
            "  Attempting uninstall: nvidia-cuda-runtime-cu12\n",
            "    Found existing installation: nvidia-cuda-runtime-cu12 12.5.82\n",
            "    Uninstalling nvidia-cuda-runtime-cu12-12.5.82:\n",
            "      Successfully uninstalled nvidia-cuda-runtime-cu12-12.5.82\n",
            "  Attempting uninstall: nvidia-cuda-nvrtc-cu12\n",
            "    Found existing installation: nvidia-cuda-nvrtc-cu12 12.5.82\n",
            "    Uninstalling nvidia-cuda-nvrtc-cu12-12.5.82:\n",
            "      Successfully uninstalled nvidia-cuda-nvrtc-cu12-12.5.82\n",
            "  Attempting uninstall: nvidia-cuda-cupti-cu12\n",
            "    Found existing installation: nvidia-cuda-cupti-cu12 12.5.82\n",
            "    Uninstalling nvidia-cuda-cupti-cu12-12.5.82:\n",
            "      Successfully uninstalled nvidia-cuda-cupti-cu12-12.5.82\n",
            "  Attempting uninstall: nvidia-cublas-cu12\n",
            "    Found existing installation: nvidia-cublas-cu12 12.5.3.2\n",
            "    Uninstalling nvidia-cublas-cu12-12.5.3.2:\n",
            "      Successfully uninstalled nvidia-cublas-cu12-12.5.3.2\n",
            "  Attempting uninstall: nvidia-cusparse-cu12\n",
            "    Found existing installation: nvidia-cusparse-cu12 12.5.1.3\n",
            "    Uninstalling nvidia-cusparse-cu12-12.5.1.3:\n",
            "      Successfully uninstalled nvidia-cusparse-cu12-12.5.1.3\n",
            "  Attempting uninstall: nvidia-cufft-cu12\n",
            "    Found existing installation: nvidia-cufft-cu12 11.2.3.61\n",
            "    Uninstalling nvidia-cufft-cu12-11.2.3.61:\n",
            "      Successfully uninstalled nvidia-cufft-cu12-11.2.3.61\n",
            "  Attempting uninstall: nvidia-cudnn-cu12\n",
            "    Found existing installation: nvidia-cudnn-cu12 9.3.0.75\n",
            "    Uninstalling nvidia-cudnn-cu12-9.3.0.75:\n",
            "      Successfully uninstalled nvidia-cudnn-cu12-9.3.0.75\n",
            "  Attempting uninstall: nvidia-cusolver-cu12\n",
            "    Found existing installation: nvidia-cusolver-cu12 11.6.3.83\n",
            "    Uninstalling nvidia-cusolver-cu12-11.6.3.83:\n",
            "      Successfully uninstalled nvidia-cusolver-cu12-11.6.3.83\n",
            "  Attempting uninstall: torch\n",
            "    Found existing installation: torch 2.6.0+cu124\n",
            "    Uninstalling torch-2.6.0+cu124:\n",
            "      Successfully uninstalled torch-2.6.0+cu124\n"
          ]
        }
      ]
    },
    {
      "cell_type": "markdown",
      "source": [
        "##If necessary, pull changes from repo"
      ],
      "metadata": {
        "id": "YJOlkWlcuyas"
      }
    },
    {
      "cell_type": "code",
      "source": [
        "!git stash\n",
        "!git pull https://github.com/habudayyeh/PINN-Helmholtz.git"
      ],
      "metadata": {
        "id": "0__m7ndsqQ78"
      },
      "execution_count": null,
      "outputs": []
    },
    {
      "cell_type": "code",
      "source": [
        "exit()"
      ],
      "metadata": {
        "id": "_0YwYy8VCZUD"
      },
      "execution_count": 4,
      "outputs": []
    }
  ]
}